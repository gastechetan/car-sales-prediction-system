{
 "cells": [
  {
   "cell_type": "code",
   "execution_count": 119,
   "metadata": {},
   "outputs": [],
   "source": [
    "import matplotlib.pyplot as plt\n",
    "import pandas as pd\n",
    "import numpy as np\n",
    "import seaborn as sns\n",
    "%matplotlib inline"
   ]
  },
  {
   "cell_type": "code",
   "execution_count": 120,
   "metadata": {},
   "outputs": [],
   "source": [
    "df=pd.read_csv(r\"D:\\College\\BTech\\SEM-2\\Project\\PrediQT\\car_dataset_india_2016_2017.csv\")"
   ]
  },
  {
   "cell_type": "code",
   "execution_count": 121,
   "metadata": {},
   "outputs": [
    {
     "data": {
      "text/html": [
       "<div>\n",
       "<style scoped>\n",
       "    .dataframe tbody tr th:only-of-type {\n",
       "        vertical-align: middle;\n",
       "    }\n",
       "\n",
       "    .dataframe tbody tr th {\n",
       "        vertical-align: top;\n",
       "    }\n",
       "\n",
       "    .dataframe thead th {\n",
       "        text-align: right;\n",
       "    }\n",
       "</style>\n",
       "<table border=\"1\" class=\"dataframe\">\n",
       "  <thead>\n",
       "    <tr style=\"text-align: right;\">\n",
       "      <th></th>\n",
       "      <th>OEM</th>\n",
       "      <th>MODEL</th>\n",
       "      <th>BODY TYPE</th>\n",
       "      <th>PRICE IN LAKHS</th>\n",
       "      <th>YEAR</th>\n",
       "      <th>MONTH</th>\n",
       "      <th>SALE</th>\n",
       "    </tr>\n",
       "  </thead>\n",
       "  <tbody>\n",
       "    <tr>\n",
       "      <th>0</th>\n",
       "      <td>Datsun</td>\n",
       "      <td>Go</td>\n",
       "      <td>Hatchback</td>\n",
       "      <td>4.03</td>\n",
       "      <td>2016</td>\n",
       "      <td>1</td>\n",
       "      <td>673.0</td>\n",
       "    </tr>\n",
       "    <tr>\n",
       "      <th>1</th>\n",
       "      <td>Datsun</td>\n",
       "      <td>Go Plus</td>\n",
       "      <td>MUV</td>\n",
       "      <td>4.26</td>\n",
       "      <td>2016</td>\n",
       "      <td>1</td>\n",
       "      <td>740.0</td>\n",
       "    </tr>\n",
       "    <tr>\n",
       "      <th>2</th>\n",
       "      <td>Datsun</td>\n",
       "      <td>RediGo</td>\n",
       "      <td>Hatchback</td>\n",
       "      <td>3.98</td>\n",
       "      <td>2016</td>\n",
       "      <td>1</td>\n",
       "      <td>NaN</td>\n",
       "    </tr>\n",
       "    <tr>\n",
       "      <th>3</th>\n",
       "      <td>Fiat</td>\n",
       "      <td>Evo, Avventura</td>\n",
       "      <td>Hatchback</td>\n",
       "      <td>6.57</td>\n",
       "      <td>2016</td>\n",
       "      <td>1</td>\n",
       "      <td>520.0</td>\n",
       "    </tr>\n",
       "    <tr>\n",
       "      <th>4</th>\n",
       "      <td>Fiat</td>\n",
       "      <td>Linea</td>\n",
       "      <td>Sedan</td>\n",
       "      <td>7.19</td>\n",
       "      <td>2016</td>\n",
       "      <td>1</td>\n",
       "      <td>93.0</td>\n",
       "    </tr>\n",
       "    <tr>\n",
       "      <th>...</th>\n",
       "      <td>...</td>\n",
       "      <td>...</td>\n",
       "      <td>...</td>\n",
       "      <td>...</td>\n",
       "      <td>...</td>\n",
       "      <td>...</td>\n",
       "      <td>...</td>\n",
       "    </tr>\n",
       "    <tr>\n",
       "      <th>1687</th>\n",
       "      <td>Toyota</td>\n",
       "      <td>Innova</td>\n",
       "      <td>MUV</td>\n",
       "      <td>17.30</td>\n",
       "      <td>2017</td>\n",
       "      <td>12</td>\n",
       "      <td>5947.0</td>\n",
       "    </tr>\n",
       "    <tr>\n",
       "      <th>1688</th>\n",
       "      <td>Toyota</td>\n",
       "      <td>Landcruiser</td>\n",
       "      <td>SUV</td>\n",
       "      <td>147.00</td>\n",
       "      <td>2017</td>\n",
       "      <td>12</td>\n",
       "      <td>13.0</td>\n",
       "    </tr>\n",
       "    <tr>\n",
       "      <th>1689</th>\n",
       "      <td>Toyota</td>\n",
       "      <td>Liva, Cross</td>\n",
       "      <td>Hatchback</td>\n",
       "      <td>5.68</td>\n",
       "      <td>2017</td>\n",
       "      <td>12</td>\n",
       "      <td>1209.0</td>\n",
       "    </tr>\n",
       "    <tr>\n",
       "      <th>1690</th>\n",
       "      <td>Volkswagen</td>\n",
       "      <td>Polo</td>\n",
       "      <td>Hatchback</td>\n",
       "      <td>6.49</td>\n",
       "      <td>2017</td>\n",
       "      <td>12</td>\n",
       "      <td>1569.0</td>\n",
       "    </tr>\n",
       "    <tr>\n",
       "      <th>1691</th>\n",
       "      <td>Volkswagen</td>\n",
       "      <td>Vento</td>\n",
       "      <td>Sedan</td>\n",
       "      <td>10.00</td>\n",
       "      <td>2017</td>\n",
       "      <td>12</td>\n",
       "      <td>548.0</td>\n",
       "    </tr>\n",
       "  </tbody>\n",
       "</table>\n",
       "<p>1692 rows × 7 columns</p>\n",
       "</div>"
      ],
      "text/plain": [
       "             OEM           MODEL  BODY TYPE  PRICE IN LAKHS  YEAR  MONTH  \\\n",
       "0         Datsun              Go  Hatchback            4.03  2016      1   \n",
       "1         Datsun         Go Plus        MUV            4.26  2016      1   \n",
       "2         Datsun          RediGo  Hatchback            3.98  2016      1   \n",
       "3           Fiat  Evo, Avventura  Hatchback            6.57  2016      1   \n",
       "4           Fiat           Linea      Sedan            7.19  2016      1   \n",
       "...          ...             ...        ...             ...   ...    ...   \n",
       "1687      Toyota          Innova        MUV           17.30  2017     12   \n",
       "1688      Toyota     Landcruiser        SUV          147.00  2017     12   \n",
       "1689      Toyota     Liva, Cross  Hatchback            5.68  2017     12   \n",
       "1690  Volkswagen            Polo  Hatchback            6.49  2017     12   \n",
       "1691  Volkswagen           Vento      Sedan           10.00  2017     12   \n",
       "\n",
       "        SALE  \n",
       "0      673.0  \n",
       "1      740.0  \n",
       "2        NaN  \n",
       "3      520.0  \n",
       "4       93.0  \n",
       "...      ...  \n",
       "1687  5947.0  \n",
       "1688    13.0  \n",
       "1689  1209.0  \n",
       "1690  1569.0  \n",
       "1691   548.0  \n",
       "\n",
       "[1692 rows x 7 columns]"
      ]
     },
     "execution_count": 121,
     "metadata": {},
     "output_type": "execute_result"
    }
   ],
   "source": [
    "df"
   ]
  },
  {
   "cell_type": "code",
   "execution_count": 122,
   "metadata": {},
   "outputs": [
    {
     "name": "stdout",
     "output_type": "stream",
     "text": [
      "<class 'pandas.core.frame.DataFrame'>\n",
      "RangeIndex: 1692 entries, 0 to 1691\n",
      "Data columns (total 7 columns):\n",
      " #   Column          Non-Null Count  Dtype  \n",
      "---  ------          --------------  -----  \n",
      " 0   OEM             1692 non-null   object \n",
      " 1   MODEL           1692 non-null   object \n",
      " 2   BODY TYPE       1692 non-null   object \n",
      " 3   PRICE IN LAKHS  1692 non-null   float64\n",
      " 4   YEAR            1692 non-null   int64  \n",
      " 5   MONTH           1692 non-null   int64  \n",
      " 6   SALE            1628 non-null   float64\n",
      "dtypes: float64(2), int64(2), object(3)\n",
      "memory usage: 92.7+ KB\n"
     ]
    }
   ],
   "source": [
    "df.info()"
   ]
  },
  {
   "cell_type": "code",
   "execution_count": 123,
   "metadata": {},
   "outputs": [
    {
     "data": {
      "text/plain": [
       "count    1692.000000\n",
       "mean       12.972766\n",
       "std        19.431959\n",
       "min         2.050000\n",
       "25%         5.570000\n",
       "50%         7.280000\n",
       "75%        13.000000\n",
       "max       147.000000\n",
       "Name: PRICE IN LAKHS, dtype: float64"
      ]
     },
     "execution_count": 123,
     "metadata": {},
     "output_type": "execute_result"
    }
   ],
   "source": [
    "df['PRICE IN LAKHS'].describe()"
   ]
  },
  {
   "cell_type": "code",
   "execution_count": 124,
   "metadata": {},
   "outputs": [
    {
     "data": {
      "text/plain": [
       "(1692, 7)"
      ]
     },
     "execution_count": 124,
     "metadata": {},
     "output_type": "execute_result"
    }
   ],
   "source": [
    "df.shape"
   ]
  },
  {
   "cell_type": "markdown",
   "metadata": {},
   "source": [
    "Check for Missing values"
   ]
  },
  {
   "cell_type": "code",
   "execution_count": 125,
   "metadata": {},
   "outputs": [
    {
     "data": {
      "text/plain": [
       "OEM                0\n",
       "MODEL              0\n",
       "BODY TYPE          0\n",
       "PRICE IN LAKHS     0\n",
       "YEAR               0\n",
       "MONTH              0\n",
       "SALE              64\n",
       "dtype: int64"
      ]
     },
     "execution_count": 125,
     "metadata": {},
     "output_type": "execute_result"
    }
   ],
   "source": [
    "df.isnull().sum()"
   ]
  },
  {
   "cell_type": "markdown",
   "metadata": {},
   "source": [
    "Replace the missing values"
   ]
  },
  {
   "cell_type": "code",
   "execution_count": 126,
   "metadata": {},
   "outputs": [],
   "source": [
    "df[\"SALE\"].fillna(0, inplace=True)"
   ]
  },
  {
   "cell_type": "code",
   "execution_count": 127,
   "metadata": {},
   "outputs": [
    {
     "data": {
      "text/plain": [
       "OEM               0\n",
       "MODEL             0\n",
       "BODY TYPE         0\n",
       "PRICE IN LAKHS    0\n",
       "YEAR              0\n",
       "MONTH             0\n",
       "SALE              0\n",
       "dtype: int64"
      ]
     },
     "execution_count": 127,
     "metadata": {},
     "output_type": "execute_result"
    }
   ],
   "source": [
    "df.isnull().sum()"
   ]
  },
  {
   "cell_type": "code",
   "execution_count": 128,
   "metadata": {},
   "outputs": [
    {
     "data": {
      "text/plain": [
       "0"
      ]
     },
     "execution_count": 128,
     "metadata": {},
     "output_type": "execute_result"
    }
   ],
   "source": [
    "df.duplicated().sum()"
   ]
  },
  {
   "cell_type": "markdown",
   "metadata": {},
   "source": [
    "Correlation between PRICE and SALE"
   ]
  },
  {
   "cell_type": "code",
   "execution_count": 129,
   "metadata": {},
   "outputs": [
    {
     "data": {
      "image/png": "[encoded data removed]",
      "text/plain": [
       "<Figure size 720x576 with 1 Axes>"
      ]
     },
     "metadata": {
      "needs_background": "light"
     },
     "output_type": "display_data"
    }
   ],
   "source": [
    "plt.figure(figsize=(10,8))\n",
    "sns.scatterplot(data=df, x='PRICE IN LAKHS', y='SALE',hue='BODY TYPE',alpha=.89, s=120 );\n",
    "plt.xticks(fontsize=13);\n",
    "plt.yticks(fontsize=13)\n",
    "plt.xlabel('PRICE IN LAKHS',fontsize=14)\n",
    "plt.ylabel('SALE',fontsize=14)\n",
    "plt.title('Relation between PRICE,SALE AND BODY-TYPE',fontsize=20);"
   ]
  },
  {
   "cell_type": "code",
   "execution_count": 130,
   "metadata": {},
   "outputs": [
    {
     "data": {
      "text/plain": [
       "Hatchback    576\n",
       "Sedan        480\n",
       "SUV          348\n",
       "MUV          264\n",
       "Others        24\n",
       "Name: BODY TYPE, dtype: int64"
      ]
     },
     "execution_count": 130,
     "metadata": {},
     "output_type": "execute_result"
    }
   ],
   "source": [
    "df['BODY TYPE'].value_counts()"
   ]
  },
  {
   "cell_type": "code",
   "execution_count": 131,
   "metadata": {},
   "outputs": [
    {
     "data": {
      "text/plain": [
       "Tigor           24\n",
       "Jazz            24\n",
       "CRV             24\n",
       "Elantra         24\n",
       "Verito, Vibe    24\n",
       "                ..\n",
       "Elite i20       24\n",
       "Superb          24\n",
       "Creta           24\n",
       "City            24\n",
       "WRV             12\n",
       "Name: MODEL, Length: 71, dtype: int64"
      ]
     },
     "execution_count": 131,
     "metadata": {},
     "output_type": "execute_result"
    }
   ],
   "source": [
    "df['MODEL'].value_counts()"
   ]
  },
  {
   "cell_type": "markdown",
   "metadata": {},
   "source": [
    "Correlation between variables"
   ]
  },
  {
   "cell_type": "code",
   "execution_count": 132,
   "metadata": {},
   "outputs": [
    {
     "data": {
      "image/png": "[encoded data removed]",
      "text/plain": [
       "<Figure size 864x360 with 2 Axes>"
      ]
     },
     "metadata": {
      "needs_background": "light"
     },
     "output_type": "display_data"
    }
   ],
   "source": [
    "plt.figure(figsize=(12,5))\n",
    "sns.heatmap(df.corr(), annot=True, fmt='.2%')\n",
    "plt.title('Correlation between different variables',fontsize=20)\n",
    "plt.xticks(fontsize=14, rotation=320)\n",
    "plt.yticks(fontsize=14);"
   ]
  },
  {
   "cell_type": "code",
   "execution_count": 133,
   "metadata": {},
   "outputs": [],
   "source": [
    "md = df"
   ]
  },
  {
   "cell_type": "code",
   "execution_count": 134,
   "metadata": {},
   "outputs": [],
   "source": [
    "x = md.drop(columns=['SALE'],axis=1)\n",
    "y = md['SALE']"
   ]
  },
  {
   "cell_type": "code",
   "execution_count": 135,
   "metadata": {},
   "outputs": [
    {
     "data": {
      "text/html": [
       "<div>\n",
       "<style scoped>\n",
       "    .dataframe tbody tr th:only-of-type {\n",
       "        vertical-align: middle;\n",
       "    }\n",
       "\n",
       "    .dataframe tbody tr th {\n",
       "        vertical-align: top;\n",
       "    }\n",
       "\n",
       "    .dataframe thead th {\n",
       "        text-align: right;\n",
       "    }\n",
       "</style>\n",
       "<table border=\"1\" class=\"dataframe\">\n",
       "  <thead>\n",
       "    <tr style=\"text-align: right;\">\n",
       "      <th></th>\n",
       "      <th>OEM</th>\n",
       "      <th>MODEL</th>\n",
       "      <th>BODY TYPE</th>\n",
       "      <th>PRICE IN LAKHS</th>\n",
       "      <th>YEAR</th>\n",
       "      <th>MONTH</th>\n",
       "    </tr>\n",
       "  </thead>\n",
       "  <tbody>\n",
       "    <tr>\n",
       "      <th>0</th>\n",
       "      <td>Datsun</td>\n",
       "      <td>Go</td>\n",
       "      <td>Hatchback</td>\n",
       "      <td>4.03</td>\n",
       "      <td>2016</td>\n",
       "      <td>1</td>\n",
       "    </tr>\n",
       "    <tr>\n",
       "      <th>1</th>\n",
       "      <td>Datsun</td>\n",
       "      <td>Go Plus</td>\n",
       "      <td>MUV</td>\n",
       "      <td>4.26</td>\n",
       "      <td>2016</td>\n",
       "      <td>1</td>\n",
       "    </tr>\n",
       "    <tr>\n",
       "      <th>2</th>\n",
       "      <td>Datsun</td>\n",
       "      <td>RediGo</td>\n",
       "      <td>Hatchback</td>\n",
       "      <td>3.98</td>\n",
       "      <td>2016</td>\n",
       "      <td>1</td>\n",
       "    </tr>\n",
       "    <tr>\n",
       "      <th>3</th>\n",
       "      <td>Fiat</td>\n",
       "      <td>Evo, Avventura</td>\n",
       "      <td>Hatchback</td>\n",
       "      <td>6.57</td>\n",
       "      <td>2016</td>\n",
       "      <td>1</td>\n",
       "    </tr>\n",
       "    <tr>\n",
       "      <th>4</th>\n",
       "      <td>Fiat</td>\n",
       "      <td>Linea</td>\n",
       "      <td>Sedan</td>\n",
       "      <td>7.19</td>\n",
       "      <td>2016</td>\n",
       "      <td>1</td>\n",
       "    </tr>\n",
       "    <tr>\n",
       "      <th>...</th>\n",
       "      <td>...</td>\n",
       "      <td>...</td>\n",
       "      <td>...</td>\n",
       "      <td>...</td>\n",
       "      <td>...</td>\n",
       "      <td>...</td>\n",
       "    </tr>\n",
       "    <tr>\n",
       "      <th>1687</th>\n",
       "      <td>Toyota</td>\n",
       "      <td>Innova</td>\n",
       "      <td>MUV</td>\n",
       "      <td>17.30</td>\n",
       "      <td>2017</td>\n",
       "      <td>12</td>\n",
       "    </tr>\n",
       "    <tr>\n",
       "      <th>1688</th>\n",
       "      <td>Toyota</td>\n",
       "      <td>Landcruiser</td>\n",
       "      <td>SUV</td>\n",
       "      <td>147.00</td>\n",
       "      <td>2017</td>\n",
       "      <td>12</td>\n",
       "    </tr>\n",
       "    <tr>\n",
       "      <th>1689</th>\n",
       "      <td>Toyota</td>\n",
       "      <td>Liva, Cross</td>\n",
       "      <td>Hatchback</td>\n",
       "      <td>5.68</td>\n",
       "      <td>2017</td>\n",
       "      <td>12</td>\n",
       "    </tr>\n",
       "    <tr>\n",
       "      <th>1690</th>\n",
       "      <td>Volkswagen</td>\n",
       "      <td>Polo</td>\n",
       "      <td>Hatchback</td>\n",
       "      <td>6.49</td>\n",
       "      <td>2017</td>\n",
       "      <td>12</td>\n",
       "    </tr>\n",
       "    <tr>\n",
       "      <th>1691</th>\n",
       "      <td>Volkswagen</td>\n",
       "      <td>Vento</td>\n",
       "      <td>Sedan</td>\n",
       "      <td>10.00</td>\n",
       "      <td>2017</td>\n",
       "      <td>12</td>\n",
       "    </tr>\n",
       "  </tbody>\n",
       "</table>\n",
       "<p>1692 rows × 6 columns</p>\n",
       "</div>"
      ],
      "text/plain": [
       "             OEM           MODEL  BODY TYPE  PRICE IN LAKHS  YEAR  MONTH\n",
       "0         Datsun              Go  Hatchback            4.03  2016      1\n",
       "1         Datsun         Go Plus        MUV            4.26  2016      1\n",
       "2         Datsun          RediGo  Hatchback            3.98  2016      1\n",
       "3           Fiat  Evo, Avventura  Hatchback            6.57  2016      1\n",
       "4           Fiat           Linea      Sedan            7.19  2016      1\n",
       "...          ...             ...        ...             ...   ...    ...\n",
       "1687      Toyota          Innova        MUV           17.30  2017     12\n",
       "1688      Toyota     Landcruiser        SUV          147.00  2017     12\n",
       "1689      Toyota     Liva, Cross  Hatchback            5.68  2017     12\n",
       "1690  Volkswagen            Polo  Hatchback            6.49  2017     12\n",
       "1691  Volkswagen           Vento      Sedan           10.00  2017     12\n",
       "\n",
       "[1692 rows x 6 columns]"
      ]
     },
     "execution_count": 135,
     "metadata": {},
     "output_type": "execute_result"
    }
   ],
   "source": [
    "x"
   ]
  },
  {
   "cell_type": "code",
   "execution_count": 136,
   "metadata": {},
   "outputs": [
    {
     "data": {
      "text/plain": [
       "0        673.0\n",
       "1        740.0\n",
       "2          0.0\n",
       "3        520.0\n",
       "4         93.0\n",
       "         ...  \n",
       "1687    5947.0\n",
       "1688      13.0\n",
       "1689    1209.0\n",
       "1690    1569.0\n",
       "1691     548.0\n",
       "Name: SALE, Length: 1692, dtype: float64"
      ]
     },
     "execution_count": 136,
     "metadata": {},
     "output_type": "execute_result"
    }
   ],
   "source": [
    "y"
   ]
  },
  {
   "cell_type": "code",
   "execution_count": 137,
   "metadata": {},
   "outputs": [],
   "source": [
    "from sklearn.model_selection import train_test_split\n",
    "x_train, x_test, y_train, y_test= train_test_split(x, y, test_size=0.2)"
   ]
  },
  {
   "cell_type": "code",
   "execution_count": 138,
   "metadata": {},
   "outputs": [],
   "source": [
    "from sklearn.metrics import r2_score\n",
    "from sklearn.preprocessing import OneHotEncoder\n",
    "from sklearn.compose import make_column_transformer\n",
    "from sklearn.pipeline import make_pipeline"
   ]
  },
  {
   "cell_type": "code",
   "execution_count": 139,
   "metadata": {},
   "outputs": [],
   "source": [
    "#model training\n",
    "from sklearn.linear_model import LinearRegression\n",
    "from sklearn.ensemble import RandomForestRegressor\n",
    "from sklearn.svm import SVR\n",
    "from sklearn.tree import DecisionTreeRegressor"
   ]
  },
  {
   "cell_type": "code",
   "execution_count": 140,
   "metadata": {},
   "outputs": [
    {
     "data": {
      "text/plain": [
       "OneHotEncoder()"
      ]
     },
     "execution_count": 140,
     "metadata": {},
     "output_type": "execute_result"
    }
   ],
   "source": [
    "ohe= OneHotEncoder()\n",
    "ohe.fit(x[['OEM','MODEL','BODY TYPE']])"
   ]
  },
  {
   "cell_type": "code",
   "execution_count": 141,
   "metadata": {},
   "outputs": [],
   "source": [
    "col_trans= make_column_transformer((OneHotEncoder(categories=ohe.categories_),['OEM','MODEL','BODY TYPE']),remainder='passthrough')"
   ]
  },
  {
   "cell_type": "markdown",
   "metadata": {},
   "source": [
    "Linear Regression"
   ]
  },
  {
   "cell_type": "code",
   "execution_count": 142,
   "metadata": {},
   "outputs": [],
   "source": [
    "lr = LinearRegression()"
   ]
  },
  {
   "cell_type": "code",
   "execution_count": 143,
   "metadata": {},
   "outputs": [],
   "source": [
    "lr_pipe = make_pipeline(col_trans,lr)"
   ]
  },
  {
   "cell_type": "code",
   "execution_count": 144,
   "metadata": {},
   "outputs": [
    {
     "data": {
      "text/plain": [
       "Pipeline(steps=[('columntransformer',\n",
       "                 ColumnTransformer(remainder='passthrough',\n",
       "                                   transformers=[('onehotencoder',\n",
       "                                                  OneHotEncoder(categories=[array(['Datsun', 'Fiat', 'Ford', 'Honda', 'Hyundai', 'Mahindra',\n",
       "       'Maruti Suzuki', 'Nissan', 'Renault', 'Skoda', 'Tata', 'Toyota',\n",
       "       'Volkswagen'], dtype=object),\n",
       "                                                                            array(['Alto', 'Amaze', 'Aspire', 'BRV', 'Baleno', 'Bolero', 'Bolt',\n",
       "       'Brio',...\n",
       "       'Rapid', 'RediGo', 'S-Cross', 'Safari, Storme', 'Scorpio', 'Sumo',\n",
       "       'Sunny', 'Superb', 'Swift', 'TUV300', 'Terrano', 'Tiago', 'Tigor',\n",
       "       'Tucson', 'Vento', 'Verito, Vibe', 'Verna', 'Vitara Brezza', 'WRV',\n",
       "       'WagonR', 'XUV500', 'Xcent', 'Xylo', 'Zest', 'Еесо'], dtype=object),\n",
       "                                                                            array(['Hatchback', 'MUV', 'Others', 'SUV', 'Sedan'], dtype=object)]),\n",
       "                                                  ['OEM', 'MODEL',\n",
       "                                                   'BODY TYPE'])])),\n",
       "                ('linearregression', LinearRegression())])"
      ]
     },
     "execution_count": 144,
     "metadata": {},
     "output_type": "execute_result"
    }
   ],
   "source": [
    "lr_pipe.fit(x_train, y_train)"
   ]
  },
  {
   "cell_type": "code",
   "execution_count": 145,
   "metadata": {},
   "outputs": [],
   "source": [
    "y_pred=lr_pipe.predict(x_test)"
   ]
  },
  {
   "cell_type": "code",
   "execution_count": 146,
   "metadata": {},
   "outputs": [],
   "source": [
    "scores=[]\n",
    "for i in range(1000):\n",
    "    x_train, x_test, y_train, y_test= train_test_split(x, y, test_size=0.2,random_state=i)\n",
    "    lr= LinearRegression()\n",
    "    lr_pipe = make_pipeline(col_trans,lr)\n",
    "    lr_pipe.fit(x_train, y_train)\n",
    "    y_pred=lr_pipe.predict(x_test)\n",
    "    scores.append(r2_score(y_test, y_pred))"
   ]
  },
  {
   "cell_type": "code",
   "execution_count": 147,
   "metadata": {},
   "outputs": [
    {
     "data": {
      "text/plain": [
       "390"
      ]
     },
     "execution_count": 147,
     "metadata": {},
     "output_type": "execute_result"
    }
   ],
   "source": [
    "np.argmax(scores)"
   ]
  },
  {
   "cell_type": "code",
   "execution_count": 148,
   "metadata": {},
   "outputs": [
    {
     "data": {
      "text/plain": [
       "0.9545226442479503"
      ]
     },
     "execution_count": 148,
     "metadata": {},
     "output_type": "execute_result"
    }
   ],
   "source": [
    "scores[np.argmax(scores)]"
   ]
  },
  {
   "cell_type": "code",
   "execution_count": 149,
   "metadata": {},
   "outputs": [],
   "source": [
    "x_train, x_test, y_train, y_test= train_test_split(x, y, test_size=0.2,random_state=np.argmax(scores))\n",
    "lr= LinearRegression()\n",
    "lr_pipe = make_pipeline(col_trans,lr)\n",
    "lr_pipe.fit(x_train, y_train)\n",
    "y_pred=lr_pipe.predict(x_test)\n",
    "r2_lr=r2_score(y_test,y_pred)"
   ]
  },
  {
   "cell_type": "markdown",
   "metadata": {},
   "source": [
    "RandomForest Regressor"
   ]
  },
  {
   "cell_type": "code",
   "execution_count": 150,
   "metadata": {},
   "outputs": [],
   "source": [
    "rfr = RandomForestRegressor(n_estimators = 10, random_state = 0)"
   ]
  },
  {
   "cell_type": "code",
   "execution_count": 151,
   "metadata": {},
   "outputs": [],
   "source": [
    "rfr_pipe = make_pipeline(col_trans,rfr)"
   ]
  },
  {
   "cell_type": "code",
   "execution_count": 152,
   "metadata": {},
   "outputs": [
    {
     "data": {
      "text/plain": [
       "Pipeline(steps=[('columntransformer',\n",
       "                 ColumnTransformer(remainder='passthrough',\n",
       "                                   transformers=[('onehotencoder',\n",
       "                                                  OneHotEncoder(categories=[array(['Datsun', 'Fiat', 'Ford', 'Honda', 'Hyundai', 'Mahindra',\n",
       "       'Maruti Suzuki', 'Nissan', 'Renault', 'Skoda', 'Tata', 'Toyota',\n",
       "       'Volkswagen'], dtype=object),\n",
       "                                                                            array(['Alto', 'Amaze', 'Aspire', 'BRV', 'Baleno', 'Bolero', 'Bolt',\n",
       "       'Brio',...\n",
       "       'Sunny', 'Superb', 'Swift', 'TUV300', 'Terrano', 'Tiago', 'Tigor',\n",
       "       'Tucson', 'Vento', 'Verito, Vibe', 'Verna', 'Vitara Brezza', 'WRV',\n",
       "       'WagonR', 'XUV500', 'Xcent', 'Xylo', 'Zest', 'Еесо'], dtype=object),\n",
       "                                                                            array(['Hatchback', 'MUV', 'Others', 'SUV', 'Sedan'], dtype=object)]),\n",
       "                                                  ['OEM', 'MODEL',\n",
       "                                                   'BODY TYPE'])])),\n",
       "                ('randomforestregressor',\n",
       "                 RandomForestRegressor(n_estimators=10, random_state=0))])"
      ]
     },
     "execution_count": 152,
     "metadata": {},
     "output_type": "execute_result"
    }
   ],
   "source": [
    "rfr_pipe.fit(x_train, y_train)"
   ]
  },
  {
   "cell_type": "code",
   "execution_count": 153,
   "metadata": {},
   "outputs": [],
   "source": [
    "y_pred=rfr_pipe.predict(x_test)"
   ]
  },
  {
   "cell_type": "code",
   "execution_count": 154,
   "metadata": {},
   "outputs": [],
   "source": [
    "scores=[]\n",
    "for i in range(1000):\n",
    "    x_train, x_test, y_train, y_test= train_test_split(x, y, test_size=0.2,random_state=i)\n",
    "    rfr=RandomForestRegressor(n_estimators = 10)\n",
    "    rfr_pipe = make_pipeline(col_trans,rfr)\n",
    "    rfr_pipe.fit(x_train, y_train)\n",
    "    y_pred=rfr_pipe.predict(x_test)\n",
    "    scores.append(r2_score(y_test, y_pred))"
   ]
  },
  {
   "cell_type": "code",
   "execution_count": 155,
   "metadata": {},
   "outputs": [
    {
     "data": {
      "text/plain": [
       "390"
      ]
     },
     "execution_count": 155,
     "metadata": {},
     "output_type": "execute_result"
    }
   ],
   "source": [
    "np.argmax(scores)"
   ]
  },
  {
   "cell_type": "code",
   "execution_count": 156,
   "metadata": {},
   "outputs": [
    {
     "data": {
      "text/plain": [
       "0.9725927366461697"
      ]
     },
     "execution_count": 156,
     "metadata": {},
     "output_type": "execute_result"
    }
   ],
   "source": [
    "scores[np.argmax(scores)]"
   ]
  },
  {
   "cell_type": "code",
   "execution_count": 157,
   "metadata": {},
   "outputs": [
    {
     "data": {
      "text/plain": [
       "0.9724370250977274"
      ]
     },
     "execution_count": 157,
     "metadata": {},
     "output_type": "execute_result"
    }
   ],
   "source": [
    "x_train, x_test, y_train, y_test= train_test_split(x, y, test_size=0.2,random_state=np.argmax(scores))\n",
    "rfr=RandomForestRegressor(n_estimators = 10)\n",
    "rfr_pipe = make_pipeline(col_trans,rfr)\n",
    "rfr_pipe.fit(x_train, y_train)\n",
    "y_pred=rfr_pipe.predict(x_test)\n",
    "r2_rfr=r2_score(y_test,y_pred)\n",
    "r2_rfr"
   ]
  },
  {
   "cell_type": "markdown",
   "metadata": {},
   "source": [
    "DecisionTree Regressor"
   ]
  },
  {
   "cell_type": "code",
   "execution_count": 158,
   "metadata": {},
   "outputs": [],
   "source": [
    "dtr = DecisionTreeRegressor(random_state = 0)"
   ]
  },
  {
   "cell_type": "code",
   "execution_count": 159,
   "metadata": {},
   "outputs": [],
   "source": [
    "dtr_pipe = make_pipeline(col_trans,dtr)"
   ]
  },
  {
   "cell_type": "code",
   "execution_count": 160,
   "metadata": {},
   "outputs": [
    {
     "data": {
      "text/plain": [
       "Pipeline(steps=[('columntransformer',\n",
       "                 ColumnTransformer(remainder='passthrough',\n",
       "                                   transformers=[('onehotencoder',\n",
       "                                                  OneHotEncoder(categories=[array(['Datsun', 'Fiat', 'Ford', 'Honda', 'Hyundai', 'Mahindra',\n",
       "       'Maruti Suzuki', 'Nissan', 'Renault', 'Skoda', 'Tata', 'Toyota',\n",
       "       'Volkswagen'], dtype=object),\n",
       "                                                                            array(['Alto', 'Amaze', 'Aspire', 'BRV', 'Baleno', 'Bolero', 'Bolt',\n",
       "       'Brio',...\n",
       "       'Rapid', 'RediGo', 'S-Cross', 'Safari, Storme', 'Scorpio', 'Sumo',\n",
       "       'Sunny', 'Superb', 'Swift', 'TUV300', 'Terrano', 'Tiago', 'Tigor',\n",
       "       'Tucson', 'Vento', 'Verito, Vibe', 'Verna', 'Vitara Brezza', 'WRV',\n",
       "       'WagonR', 'XUV500', 'Xcent', 'Xylo', 'Zest', 'Еесо'], dtype=object),\n",
       "                                                                            array(['Hatchback', 'MUV', 'Others', 'SUV', 'Sedan'], dtype=object)]),\n",
       "                                                  ['OEM', 'MODEL',\n",
       "                                                   'BODY TYPE'])])),\n",
       "                ('decisiontreeregressor',\n",
       "                 DecisionTreeRegressor(random_state=0))])"
      ]
     },
     "execution_count": 160,
     "metadata": {},
     "output_type": "execute_result"
    }
   ],
   "source": [
    "dtr_pipe.fit(x_train, y_train)"
   ]
  },
  {
   "cell_type": "code",
   "execution_count": 161,
   "metadata": {},
   "outputs": [],
   "source": [
    "y_pred=dtr_pipe.predict(x_test)"
   ]
  },
  {
   "cell_type": "code",
   "execution_count": 162,
   "metadata": {},
   "outputs": [],
   "source": [
    "scores=[]\n",
    "for i in range(1000):\n",
    "    x_train, x_test, y_train, y_test= train_test_split(x, y, test_size=0.2,random_state=i)\n",
    "    dtr = DecisionTreeRegressor(random_state = 0)\n",
    "    dtr_pipe = make_pipeline(col_trans,dtr)\n",
    "    dtr_pipe.fit(x_train, y_train)\n",
    "    y_pred=dtr_pipe.predict(x_test)\n",
    "    scores.append(r2_score(y_test, y_pred))"
   ]
  },
  {
   "cell_type": "code",
   "execution_count": 163,
   "metadata": {},
   "outputs": [
    {
     "data": {
      "text/plain": [
       "839"
      ]
     },
     "execution_count": 163,
     "metadata": {},
     "output_type": "execute_result"
    }
   ],
   "source": [
    "np.argmax(scores)"
   ]
  },
  {
   "cell_type": "code",
   "execution_count": 164,
   "metadata": {},
   "outputs": [
    {
     "data": {
      "text/plain": [
       "0.9627870420768044"
      ]
     },
     "execution_count": 164,
     "metadata": {},
     "output_type": "execute_result"
    }
   ],
   "source": [
    "scores[np.argmax(scores)]"
   ]
  },
  {
   "cell_type": "code",
   "execution_count": 165,
   "metadata": {},
   "outputs": [
    {
     "data": {
      "text/plain": [
       "0.9627870420768044"
      ]
     },
     "execution_count": 165,
     "metadata": {},
     "output_type": "execute_result"
    }
   ],
   "source": [
    "x_train, x_test, y_train, y_test= train_test_split(x, y, test_size=0.2,random_state=np.argmax(scores))\n",
    "dtr = DecisionTreeRegressor(random_state = 0)\n",
    "dtr_pipe = make_pipeline(col_trans,dtr)\n",
    "dtr_pipe.fit(x_train, y_train)\n",
    "y_pred=dtr_pipe.predict(x_test)\n",
    "r2_dtr=r2_score(y_test,y_pred)\n",
    "r2_dtr"
   ]
  },
  {
   "cell_type": "code",
   "execution_count": 166,
   "metadata": {},
   "outputs": [],
   "source": [
    "from tabulate import tabulate"
   ]
  },
  {
   "cell_type": "code",
   "execution_count": 167,
   "metadata": {},
   "outputs": [
    {
     "name": "stdout",
     "output_type": "stream",
     "text": [
      "╒══════════╤══════════════════════════╤═══════════════════╕\n",
      "│   Sr.No. │ Regression Model         │   R-squared value │\n",
      "╞══════════╪══════════════════════════╪═══════════════════╡\n",
      "│        1 │ Linear Regression        │          0.954523 │\n",
      "├──────────┼──────────────────────────┼───────────────────┤\n",
      "│        2 │ Decision Tree Regression │          0.962787 │\n",
      "├──────────┼──────────────────────────┼───────────────────┤\n",
      "│        3 │ Random Forest Regression │          0.972437 │\n",
      "╘══════════╧══════════════════════════╧═══════════════════╛\n"
     ]
    }
   ],
   "source": [
    "table = []\n",
    "table.append(['Sr.No.', 'Regression Model', 'R-squared value'])\n",
    "table.append(['1', 'Linear Regression', r2_lr])\n",
    "table.append(['2', 'Decision Tree Regression', r2_dtr])\n",
    "table.append(['3', 'Random Forest Regression', r2_rfr])\n",
    "\n",
    "print(tabulate(table, headers='firstrow', tablefmt='fancy_grid'))"
   ]
  },
  {
   "cell_type": "code",
   "execution_count": 168,
   "metadata": {},
   "outputs": [],
   "source": [
    "var1 = lr_pipe.predict(pd.DataFrame([['Skoda','Octavia','Sedan',26.29,2018,2]],columns=['OEM','MODEL','BODY TYPE','PRICE IN LAKHS','YEAR','MONTH']))\n",
    "var2 = dtr_pipe.predict(pd.DataFrame([['Skoda','Octavia','Sedan',26.29,2018,2]],columns=['OEM','MODEL','BODY TYPE','PRICE IN LAKHS','YEAR','MONTH']))\n",
    "var3 = rfr_pipe.predict(pd.DataFrame([['Skoda','Octavia','Sedan',26.29,2018,2]],columns=['OEM','MODEL','BODY TYPE','PRICE IN LAKHS','YEAR','MONTH']))"
   ]
  },
  {
   "cell_type": "code",
   "execution_count": 169,
   "metadata": {},
   "outputs": [
    {
     "name": "stdout",
     "output_type": "stream",
     "text": [
      "Sales Prediction of Maruti Suzuki Swift in January 2018 is - \n",
      "By Linear Regression Model : -------- 666\n",
      "By Decision Tree Regression Model :-- 193\n",
      "By Random Forest Regression Model :-- 177\n"
     ]
    }
   ],
   "source": [
    "print(\"Sales Prediction of Maruti Suzuki Swift in January 2018 is - \")\n",
    "print(\"By Linear Regression Model : --------\",int(var1))\n",
    "print(\"By Decision Tree Regression Model :--\",int(var2))\n",
    "print(\"By Random Forest Regression Model :--\",int(var3))"
   ]
  },
  {
   "cell_type": "code",
   "execution_count": 170,
   "metadata": {},
   "outputs": [],
   "source": [
    "import pickle"
   ]
  },
  {
   "cell_type": "code",
   "execution_count": 171,
   "metadata": {},
   "outputs": [],
   "source": [
    "\n",
    "pickle.dump(rfr_pipe,open('prediqt.pkl','wb'))"
   ]
  }
 ],
 "metadata": {
  "interpreter": {
   "hash": "63fd5069d213b44bf678585dea6b12cceca9941eaf7f819626cde1f2670de90d"
  },
  "kernelspec": {
   "display_name": "Python 3.9.1 64-bit",
   "language": "python",
   "name": "python3"
  },
  "language_info": {
   "codemirror_mode": {
    "name": "ipython",
    "version": 3
   },
   "file_extension": ".py",
   "mimetype": "text/x-python",
   "name": "python",
   "nbconvert_exporter": "python",
   "pygments_lexer": "ipython3",
   "version": "3.8.3"
  },
  "orig_nbformat": 4
 },
 "nbformat": 4,
 "nbformat_minor": 2
}
